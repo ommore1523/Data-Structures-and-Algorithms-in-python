{
 "cells": [
  {
   "cell_type": "markdown",
   "id": "7c95f70b",
   "metadata": {},
   "source": [
    "### 1. Reverse the array "
   ]
  },
  {
   "cell_type": "code",
   "execution_count": 1,
   "id": "143470d4",
   "metadata": {},
   "outputs": [
    {
     "data": {
      "text/plain": [
       "[2, 1]"
      ]
     },
     "execution_count": 1,
     "metadata": {},
     "output_type": "execute_result"
    }
   ],
   "source": [
    "arr = [1,2]\n",
    "end =  len(arr)-1\n",
    "start = 0\n",
    "\n",
    "\n",
    "def reverse_array(arr, start, end):\n",
    "    while start < end:\n",
    "        arr[start], arr[end] = arr[end], arr[start]\n",
    "        start = start+1\n",
    "        end = end-1\n",
    "    return arr\n",
    "\n",
    "reverse_array(arr, start, end)\n"
   ]
  },
  {
   "cell_type": "raw",
   "id": "e13a695e",
   "metadata": {},
   "source": [
    "# Recursive way"
   ]
  },
  {
   "cell_type": "code",
   "execution_count": 2,
   "id": "f9def03b",
   "metadata": {},
   "outputs": [
    {
     "data": {
      "text/plain": [
       "[2, 1]"
      ]
     },
     "execution_count": 2,
     "metadata": {},
     "output_type": "execute_result"
    }
   ],
   "source": [
    "arr = [1,2]\n",
    "end =  len(arr)-1\n",
    "start = 0\n",
    "\n",
    "\n",
    "def reverseList(A, start, end):\n",
    "    if start >= end:\n",
    "        return arr\n",
    "    A[start], A[end] = A[end], A[start]\n",
    "    reverseList(A, start+1, end-1)\n",
    "\n",
    "reverseList(arr, start, end)\n",
    "arr"
   ]
  },
  {
   "cell_type": "code",
   "execution_count": null,
   "id": "372a4f49",
   "metadata": {},
   "outputs": [],
   "source": []
  },
  {
   "cell_type": "markdown",
   "id": "1fff6cd1",
   "metadata": {},
   "source": [
    "### 2. Find Maximum and Minimum element in array "
   ]
  },
  {
   "cell_type": "code",
   "execution_count": 3,
   "id": "cdaac122",
   "metadata": {},
   "outputs": [
    {
     "name": "stdout",
     "output_type": "stream",
     "text": [
      "maximum, mimimum 200 0\n"
     ]
    }
   ],
   "source": [
    "arr = [2,1, 3,0, 5, 200, 5]\n",
    "\n",
    "if arr[0] < arr[1]:\n",
    "    maximum = arr[1]\n",
    "    mimimum = arr[0]\n",
    "else:\n",
    "    maximum = arr[0]\n",
    "    mimimum = arr[1]\n",
    "    \n",
    "\n",
    "for i in range(2, len(arr)):\n",
    "    if  arr[i] > maximum:\n",
    "        maximum = arr[i]\n",
    "    elif arr[i] < mimimum:\n",
    "        mimimum = arr[i]\n",
    "        \n",
    "print(\"maximum, mimimum\",maximum, mimimum)\n",
    "        "
   ]
  },
  {
   "cell_type": "code",
   "execution_count": null,
   "id": "f7ce2ce8",
   "metadata": {},
   "outputs": [],
   "source": []
  },
  {
   "cell_type": "markdown",
   "id": "e4d51b81",
   "metadata": {},
   "source": [
    "### 3. Find k'th max and min element in array  "
   ]
  },
  {
   "cell_type": "code",
   "execution_count": null,
   "id": "3c380e03",
   "metadata": {},
   "outputs": [],
   "source": [
    "arr = [3,2,1,4,5]\n",
    "\n",
    "def kth_min_max(arr, n, kth):\n",
    "    if n == kth:\n",
    "        return \"k is greater than size of array\"\n",
    "    elif "
   ]
  },
  {
   "cell_type": "markdown",
   "id": "b20510d9",
   "metadata": {},
   "source": [
    "### 4. Given an array of size N containing only 0s, 1s, and 2s; sort the array in ascending order."
   ]
  },
  {
   "cell_type": "code",
   "execution_count": null,
   "id": "6f8411fb",
   "metadata": {},
   "outputs": [],
   "source": []
  },
  {
   "cell_type": "markdown",
   "id": "0ba0513e",
   "metadata": {},
   "source": [
    "### 5. Move all negative numbers to beginning and positive to end with constant extra space"
   ]
  },
  {
   "cell_type": "code",
   "execution_count": null,
   "id": "7589a4a1",
   "metadata": {},
   "outputs": [],
   "source": []
  },
  {
   "cell_type": "code",
   "execution_count": null,
   "id": "678916ff",
   "metadata": {},
   "outputs": [],
   "source": []
  }
 ],
 "metadata": {
  "kernelspec": {
   "display_name": "Python 3 (ipykernel)",
   "language": "python",
   "name": "python3"
  },
  "language_info": {
   "codemirror_mode": {
    "name": "ipython",
    "version": 3
   },
   "file_extension": ".py",
   "mimetype": "text/x-python",
   "name": "python",
   "nbconvert_exporter": "python",
   "pygments_lexer": "ipython3",
   "version": "3.8.10"
  }
 },
 "nbformat": 4,
 "nbformat_minor": 5
}
